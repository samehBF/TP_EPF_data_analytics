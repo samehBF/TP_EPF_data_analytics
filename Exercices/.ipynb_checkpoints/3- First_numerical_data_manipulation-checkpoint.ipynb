{
 "cells": [
  {
   "cell_type": "code",
   "execution_count": null,
   "metadata": {},
   "outputs": [],
   "source": [
    "# Cette ligne de code indique à Jupyter d'imprimer les graphiques directement dans la sortie de la cellule\n",
    "%matplotlib inline\n",
    "import seaborn # Rend les graphiques plus attractifs\n",
    "import matplotlib.pyplot as plt\n",
    "plt.rcParams['figure.figsize'] = (10.0, 4.0) # Determine la taille des graphiques (10 de longeur, 4 de largeur)\n",
    "\n",
    "import pandas # importe le module \"pandas\" pour la manipulation de données"
   ]
  },
  {
   "cell_type": "markdown",
   "metadata": {},
   "source": [
    "# Exercice: Achetons des voitures!\n",
    "\n",
    "Nous allons utiliser un jeux de données très intéréssant contenant le prix de ventes de voitures d'occasion publiés dans le site Ebay allemand. (https://www.kaggle.com/orgesleka/used-cars-database).\n",
    "\n",
    "Mettez vous à la place d'un acheteur, vendeur, ou commerciale... __A quelles questions voudriez-vous une réponse?__ \n",
    "\n",
    "#### Commençons déjà par importer le jeux de données!"
   ]
  },
  {
   "cell_type": "code",
   "execution_count": null,
   "metadata": {
    "scrolled": true
   },
   "outputs": [],
   "source": [
    "# importer le dataset depuis ./data/\n",
    "# L'encoding est pour afficher des caractères allemands est 'cp850'\n",
    "cars = #todo"
   ]
  },
  {
   "cell_type": "code",
   "execution_count": null,
   "metadata": {},
   "outputs": [],
   "source": [
    "# head, pour afficher l'entête de la table\n",
    "#TODO"
   ]
  },
  {
   "cell_type": "markdown",
   "metadata": {},
   "source": [
    "Chaque ligne (observation) correspond à une voiture mise en vente, et chaque colonne (variable) donne une des informations suivantes sur la voiture:\n",
    "\n",
    "* __name__ : nom détaillé de la voiture\n",
    "* __price__ : le prix affiché dans l'annonce\n",
    "* __type__ : le type de voiture (berline, citadine, van, ...)\n",
    "* __year__ : année dans laquelle la voiture a été enregistré\n",
    "* __gearbox__ : type de boîte (manuelle/automatique)\n",
    "* __power__ : puissance de la voiture en PS (presque équivalent à \"horsepower\")\n",
    "* __model__ : nom du model de la voiture\n",
    "* __kilometer__ : combien de kilometres a roulé la voiture\n",
    "* __fuel__ : type de combustible\n",
    "* __brand__ : marque\n",
    "* __damaged__ : \"Yes\" si la voiture a été endommagé, et mise en cente sans avoir été reparée"
   ]
  },
  {
   "cell_type": "markdown",
   "metadata": {},
   "source": [
    "## Description du dataset\n",
    "\n",
    "L'étape primordiale avant tout analyse, est de bien connaitre le jeux de données à notre disposition. La liste ci-dessous, est une liste non exhaustive de questions à se poser lorsqu'on explore un nouveau jeux de données.\n",
    "\n",
    "A vous de les repondre avec Python!"
   ]
  },
  {
   "cell_type": "markdown",
   "metadata": {},
   "source": [
    "<div class=\"alert alert-info\">\n",
    "**Question 1.a** Combien d'annonces ont été réalisés sur Ebay? c'est-à-dire, quelle est le nombre de lignes du jeux de données?\n",
    "</div>"
   ]
  },
  {
   "cell_type": "code",
   "execution_count": null,
   "metadata": {},
   "outputs": [],
   "source": [
    "# Votre réponse ici!\n"
   ]
  },
  {
   "cell_type": "code",
   "execution_count": null,
   "metadata": {},
   "outputs": [],
   "source": [
    "#TODO"
   ]
  },
  {
   "cell_type": "markdown",
   "metadata": {},
   "source": [
    "<div class=\"alert alert-info\">\n",
    "**Question 1.b** Quelles sont les variables catégorielles et numériques?\n",
    "</div>"
   ]
  },
  {
   "cell_type": "code",
   "execution_count": null,
   "metadata": {},
   "outputs": [],
   "source": [
    "# Votre réponse ici!\n"
   ]
  },
  {
   "cell_type": "markdown",
   "metadata": {},
   "source": [
    "<div class=\"alert alert-info\">\n",
    "**Question 1.c** Affichez la description (méthode `.describe()`) du dataset pour avoir une vision globale. Qu'est-ce que vous constatez?\n",
    "</div>"
   ]
  },
  {
   "cell_type": "code",
   "execution_count": null,
   "metadata": {},
   "outputs": [],
   "source": [
    "# Votre réponse ici!\n"
   ]
  },
  {
   "cell_type": "markdown",
   "metadata": {},
   "source": [
    "<div class=\"alert alert-info\">\n",
    "**Question 1.d** Vérifiez votre compréhension sur la signification des variables. Affichez les valeurs uniques pour les variables `type`, `fuel` et `brand`.\n",
    "</div>"
   ]
  },
  {
   "cell_type": "code",
   "execution_count": null,
   "metadata": {},
   "outputs": [],
   "source": [
    "# Votre réponse ici!\n"
   ]
  },
  {
   "cell_type": "markdown",
   "metadata": {},
   "source": [
    "## Exploration des caractéristiques des annonces\n",
    "Très bien! Maintenant que nous avons une idée plus concrete du contenu des données, passons à des choses sérieuses.\n"
   ]
  },
  {
   "cell_type": "markdown",
   "metadata": {},
   "source": [
    "<div class=\"alert alert-info\">\n",
    "**Question 2.a** En tant qu'acheteurs, le plus souvent la première question qu'on se pose est sur le prix des voitures. Avec la question 1.c nous avons déjà une idée des prix. <br><br> __Affichez__ la distribution de cette variable sous forme d'histogramme. Qu'est-ce que vous constatez? \n",
    "</div>"
   ]
  },
  {
   "cell_type": "code",
   "execution_count": null,
   "metadata": {},
   "outputs": [],
   "source": [
    "# Votre réponse ici!\n"
   ]
  },
  {
   "cell_type": "markdown",
   "metadata": {},
   "source": [
    "<div class=\"alert alert-info\">\n",
    "**Question 2.b** On sait que le prix d'une voiture est très dépendant de beaucoup de facteurs. La puissance en est un parmi ceux là. __Comment varie le prix en fonction de la puissance de la voiture?__\n",
    "<br><br>\n",
    "Utilisez un graphique de type __scatterplot__ pour ce faire! (le paramètre `alpha` peut être très utile pour ajouter de la transparence)\n",
    "</div>\n",
    "\n",
    "Exemple:\n",
    "```python\n",
    "nom_dataframe.plot.scatter(x = \"nom_colonne\", # variable x\n",
    "                           y = \"nom_colonne\", # variable y\n",
    "                           alpha = 0.01 # transparence (entre 0 et 1)\n",
    "                           ); \n",
    "```\n"
   ]
  },
  {
   "cell_type": "code",
   "execution_count": null,
   "metadata": {},
   "outputs": [],
   "source": [
    "# Votre réponse ici!\n"
   ]
  },
  {
   "cell_type": "markdown",
   "metadata": {},
   "source": [
    "### Comment choisir sa voiture au meilleur prix?"
   ]
  },
  {
   "cell_type": "markdown",
   "metadata": {},
   "source": [
    "<div class=\"alert alert-info\">\n",
    "**Question 3.a** En plus de la puissance, __l'age__ est un de facteurs les plus influents sur le prix. Comment évolue __la distribution du prix__ des voitures en fonction de l'age? <br>__Tracez un boxplot__ du prix par année, et analysez le résultat.\n",
    "</div>\n",
    "\n",
    "Exemple:\n",
    "```python\n",
    "nom_dataframe.boxplot(column = \"nom_colonne\", # variable à afficher la distribution\n",
    "                          by = \"nom_colonne\", # un boxplot est fait par valeur unique de la colonne\n",
    "                           ); \n",
    "```\n"
   ]
  },
  {
   "cell_type": "code",
   "execution_count": null,
   "metadata": {},
   "outputs": [],
   "source": [
    "# Votre réponse ici!\n"
   ]
  },
  {
   "cell_type": "markdown",
   "metadata": {
    "collapsed": true,
    "solution2": "hidden"
   },
   "source": [
    "<div class=\"alert alert-info\">\n",
    "**Question 3.b** Le type de voiture peut autre aussi un facteur determinant du prix. \n",
    "<br><br>\n",
    "Quel __type de véhicule__ vous devriez préférer à l'achat pour un prix abordable?\n",
    "</div>"
   ]
  },
  {
   "cell_type": "code",
   "execution_count": null,
   "metadata": {},
   "outputs": [],
   "source": [
    "# Votre réponse ici!\n"
   ]
  }
 ],
 "metadata": {
  "anaconda-cloud": {},
  "kernelspec": {
   "display_name": "Python 3",
   "language": "python",
   "name": "python3"
  },
  "language_info": {
   "codemirror_mode": {
    "name": "ipython",
    "version": 3
   },
   "file_extension": ".py",
   "mimetype": "text/x-python",
   "name": "python",
   "nbconvert_exporter": "python",
   "pygments_lexer": "ipython3",
   "version": "3.7.1"
  },
  "toc": {
   "colors": {
    "hover_highlight": "#DAA520",
    "navigate_num": "#000000",
    "navigate_text": "#333333",
    "running_highlight": "#FF0000",
    "selected_highlight": "#FFD700",
    "sidebar_border": "#EEEEEE",
    "wrapper_background": "#FFFFFF"
   },
   "moveMenuLeft": true,
   "nav_menu": {
    "height": "324px",
    "width": "252px"
   },
   "navigate_menu": true,
   "number_sections": true,
   "sideBar": true,
   "threshold": 4,
   "toc_cell": false,
   "toc_position": {
    "height": "561px",
    "left": "0px",
    "right": "1448px",
    "top": "106px",
    "width": "217px"
   },
   "toc_section_display": "block",
   "toc_window_display": true,
   "widenNotebook": false
  }
 },
 "nbformat": 4,
 "nbformat_minor": 1
}
